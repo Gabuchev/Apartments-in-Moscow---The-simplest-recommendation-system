{
 "cells": [
  {
   "cell_type": "code",
   "execution_count": 1,
   "metadata": {},
   "outputs": [],
   "source": [
    "import pandas as pd\n",
    "import numpy as np\n",
    "#!pip install tqdm\n",
    "import tqdm \n",
    "#from tqdm.auto\n",
    "#import trange\n",
    "import nltk\n",
    "import re\n",
    "data = pd.read_csv('E:\\project university\\Выпускная работа\\Сlean.csv')"
   ]
  },
  {
   "cell_type": "code",
   "execution_count": 5,
   "metadata": {},
   "outputs": [
    {
     "name": "stdout",
     "output_type": "stream",
     "text": [
      "Requirement already satisfied: tqdm in c:\\users\\daniel\\.conda\\envs\\python_msu\\lib\\site-packages (4.64.1)\n",
      "Requirement already satisfied: colorama in c:\\users\\daniel\\.conda\\envs\\python_msu\\lib\\site-packages (from tqdm) (0.4.4)\n"
     ]
    }
   ],
   "source": [
    "!pip install tqdm\n"
   ]
  },
  {
   "cell_type": "code",
   "execution_count": 2,
   "metadata": {},
   "outputs": [],
   "source": [
    "texts=data['description']"
   ]
  },
  {
   "cell_type": "code",
   "execution_count": 3,
   "metadata": {},
   "outputs": [
    {
     "data": {
      "text/plain": [
       "pandas.core.series.Series"
      ]
     },
     "execution_count": 3,
     "metadata": {},
     "output_type": "execute_result"
    }
   ],
   "source": [
    "type(texts)"
   ]
  },
  {
   "cell_type": "code",
   "execution_count": 4,
   "metadata": {},
   "outputs": [],
   "source": [
    "#Предобработка текста\n",
    "from nltk.stem.snowball import SnowballStemmer\n",
    "stemmer = SnowballStemmer(\"russian\")\n",
    "def token_and_stem(text):\n",
    "    tokens=[word for sent in nltk.sent_tokenize(text) for word in nltk.word_tokenize(sent)]\n",
    "    filtered_tokens=[]\n",
    "    for token in tokens:\n",
    "        if re.search('[а-яА-Я]', token):\n",
    "            filtered_tokens.append(token)\n",
    "    stems=[stemmer.stem(t) for t in filtered_tokens]\n",
    "    return stems\n"
   ]
  },
  {
   "cell_type": "code",
   "execution_count": 17,
   "metadata": {},
   "outputs": [],
   "source": [
    "stopwords = nltk.corpus.stopwords.words('russian')\n",
    "#расширяю список стоп-слов\n",
    "stopwords.extend(['что','это','так', 'вот', 'быть','как','в', 'к','на', 'спешите', 'внимание', 'лучшее', 'самое','Успейте','выгодно', 'Прекрасная'])\n",
    "\n",
    "from sklearn.feature_extraction.text import TfidfVectorizer, CountVectorizer\n",
    "\n",
    "n_featur=200000\n",
    "tfidf_vectorizer = TfidfVectorizer(max_df=0.8, max_features=10000,\n",
    "                                 min_df=0.01, stop_words=stopwords,\n",
    "                                 use_idf=True, tokenizer=token_and_stem, ngram_range=(1,3))"
   ]
  },
  {
   "cell_type": "code",
   "execution_count": 18,
   "metadata": {},
   "outputs": [
    {
     "name": "stderr",
     "output_type": "stream",
     "text": [
      "C:\\Users\\Daniel\\anaconda3\\lib\\site-packages\\sklearn\\feature_extraction\\text.py:396: UserWarning: Your stop_words may be inconsistent with your preprocessing. Tokenizing the stop words generated tokens ['бол', 'больш', 'будт', 'быт', 'вед', 'вниман', 'впроч', 'всег', 'всегд', 'выгодн', 'даж', 'друг', 'е', 'ег', 'ем', 'есл', 'ест', 'ещ', 'зач', 'зде', 'ил', 'иногд', 'когд', 'конечн', 'куд', 'лучш', 'межд', 'мен', 'мног', 'мо', 'можн', 'нег', 'нельз', 'нибуд', 'никогд', 'нич', 'опя', 'посл', 'пот', 'почт', 'прекрасн', 'разв', 'сво', 'себ', 'совс', 'спеш', 'теб', 'тепер', 'тог', 'тогд', 'тож', 'тольк', 'усп', 'хорош', 'хот', 'чег', 'чут', 'эт'] not in stop_words.\n",
      "  warnings.warn(\n"
     ]
    },
    {
     "name": "stdout",
     "output_type": "stream",
     "text": [
      "Wall time: 16min 18s\n"
     ]
    }
   ],
   "source": [
    "%%time\n",
    "tfidf_matrix=tfidf_vectorizer.fit_transform(texts)"
   ]
  },
  {
   "cell_type": "code",
   "execution_count": 19,
   "metadata": {},
   "outputs": [
    {
     "data": {
      "text/plain": [
       "<100723x2743 sparse matrix of type '<class 'numpy.float64'>'\n",
       "\twith 10074824 stored elements in Compressed Sparse Row format>"
      ]
     },
     "execution_count": 19,
     "metadata": {},
     "output_type": "execute_result"
    }
   ],
   "source": [
    "type(tfidf_matrix)\n",
    "tfidf_matrix"
   ]
  },
  {
   "cell_type": "code",
   "execution_count": 20,
   "metadata": {},
   "outputs": [
    {
     "name": "stdout",
     "output_type": "stream",
     "text": [
      "(100723, 2743)\n"
     ]
    }
   ],
   "source": [
    "print(tfidf_matrix.shape)"
   ]
  },
  {
   "cell_type": "code",
   "execution_count": 21,
   "metadata": {},
   "outputs": [
    {
     "data": {
      "text/plain": [
       "<10x2743 sparse matrix of type '<class 'numpy.float64'>'\n",
       "\twith 372 stored elements in Compressed Sparse Row format>"
      ]
     },
     "execution_count": 21,
     "metadata": {},
     "output_type": "execute_result"
    }
   ],
   "source": [
    "tfidf_matrix[:10]"
   ]
  },
  {
   "cell_type": "code",
   "execution_count": 22,
   "metadata": {},
   "outputs": [],
   "source": [
    "num_clusters = 5\n",
    "\n",
    "# Метод к-средних - KMeans\n",
    "from sklearn.cluster import KMeans\n",
    "km = KMeans(n_clusters=num_clusters)"
   ]
  },
  {
   "cell_type": "code",
   "execution_count": 23,
   "metadata": {},
   "outputs": [
    {
     "name": "stdout",
     "output_type": "stream",
     "text": [
      "Wall time: 5min 37s\n"
     ]
    },
    {
     "data": {
      "text/plain": [
       "KMeans(n_clusters=5)"
      ]
     },
     "execution_count": 23,
     "metadata": {},
     "output_type": "execute_result"
    }
   ],
   "source": [
    "%%time\n",
    "km.fit(tfidf_matrix)"
   ]
  },
  {
   "cell_type": "code",
   "execution_count": 24,
   "metadata": {},
   "outputs": [
    {
     "name": "stdout",
     "output_type": "stream",
     "text": [
      "Wall time: 5min 19s\n"
     ]
    }
   ],
   "source": [
    "%%time\n",
    "idx = km.fit(tfidf_matrix)\n",
    "clusters = km.labels_.tolist()\n"
   ]
  },
  {
   "cell_type": "code",
   "execution_count": 25,
   "metadata": {},
   "outputs": [
    {
     "data": {
      "text/plain": [
       "[3, 3, 3, 3, 3, 3, 3, 3, 3, 3]"
      ]
     },
     "execution_count": 25,
     "metadata": {},
     "output_type": "execute_result"
    }
   ],
   "source": [
    "len(km.labels_)\n",
    "clusters[:10]"
   ]
  },
  {
   "cell_type": "code",
   "execution_count": 26,
   "metadata": {},
   "outputs": [],
   "source": [
    "clusterkm = km.labels_.tolist()\n",
    "frame = pd.DataFrame(texts)\n",
    "\n",
    "#k-means\n",
    "out = { 'text': texts, 'cluster': clusterkm, 'description': data['description'] }\n",
    "frame1 = pd.DataFrame(out, columns = ['text', 'cluster', 'description'])"
   ]
  },
  {
   "cell_type": "code",
   "execution_count": 28,
   "metadata": {},
   "outputs": [
    {
     "data": {
      "text/html": [
       "<div>\n",
       "<style scoped>\n",
       "    .dataframe tbody tr th:only-of-type {\n",
       "        vertical-align: middle;\n",
       "    }\n",
       "\n",
       "    .dataframe tbody tr th {\n",
       "        vertical-align: top;\n",
       "    }\n",
       "\n",
       "    .dataframe thead th {\n",
       "        text-align: right;\n",
       "    }\n",
       "</style>\n",
       "<table border=\"1\" class=\"dataframe\">\n",
       "  <thead>\n",
       "    <tr style=\"text-align: right;\">\n",
       "      <th></th>\n",
       "      <th>text</th>\n",
       "      <th>cluster</th>\n",
       "      <th>description</th>\n",
       "    </tr>\n",
       "  </thead>\n",
       "  <tbody>\n",
       "    <tr>\n",
       "      <th>0</th>\n",
       "      <td>Прекрасная однокомнатная квартира в доме с лиф...</td>\n",
       "      <td>3</td>\n",
       "      <td>Прекрасная однокомнатная квартира в доме с лиф...</td>\n",
       "    </tr>\n",
       "    <tr>\n",
       "      <th>1</th>\n",
       "      <td>Светлая, просторная комната 19 кв. метров. Отд...</td>\n",
       "      <td>3</td>\n",
       "      <td>Светлая, просторная комната 19 кв. метров. Отд...</td>\n",
       "    </tr>\n",
       "    <tr>\n",
       "      <th>2</th>\n",
       "      <td>Первомайская, 15 мин. пешкомТёплая уютная квар...</td>\n",
       "      <td>3</td>\n",
       "      <td>Первомайская, 15 мин. пешкомТёплая уютная квар...</td>\n",
       "    </tr>\n",
       "    <tr>\n",
       "      <th>3</th>\n",
       "      <td>в шаговой доступности парк Сокольники. , Разви...</td>\n",
       "      <td>3</td>\n",
       "      <td>в шаговой доступности парк Сокольники. , Разви...</td>\n",
       "    </tr>\n",
       "    <tr>\n",
       "      <th>4</th>\n",
       "      <td>Ильинское с.Все коммуникации центральные.Кварт...</td>\n",
       "      <td>3</td>\n",
       "      <td>Ильинское с.Все коммуникации центральные.Кварт...</td>\n",
       "    </tr>\n",
       "    <tr>\n",
       "      <th>5</th>\n",
       "      <td>Продается срочно однокомнатная квартира под ре...</td>\n",
       "      <td>3</td>\n",
       "      <td>Продается срочно однокомнатная квартира под ре...</td>\n",
       "    </tr>\n",
       "    <tr>\n",
       "      <th>6</th>\n",
       "      <td>Знамя Октября пос.Продается светлая, уютная, п...</td>\n",
       "      <td>3</td>\n",
       "      <td>Знамя Октября пос.Продается светлая, уютная, п...</td>\n",
       "    </tr>\n",
       "    <tr>\n",
       "      <th>7</th>\n",
       "      <td>Маяковская, 10 мин. пешкомБаррикадная, 10 мин....</td>\n",
       "      <td>3</td>\n",
       "      <td>Маяковская, 10 мин. пешкомБаррикадная, 10 мин....</td>\n",
       "    </tr>\n",
       "    <tr>\n",
       "      <th>8</th>\n",
       "      <td>Продается двухкомнатная квартира общей площадь...</td>\n",
       "      <td>3</td>\n",
       "      <td>Продается двухкомнатная квартира общей площадь...</td>\n",
       "    </tr>\n",
       "    <tr>\n",
       "      <th>9</th>\n",
       "      <td>Домодедово г.Успейте купить выгодно!!!        ...</td>\n",
       "      <td>3</td>\n",
       "      <td>Домодедово г.Успейте купить выгодно!!!        ...</td>\n",
       "    </tr>\n",
       "  </tbody>\n",
       "</table>\n",
       "</div>"
      ],
      "text/plain": [
       "                                                text  cluster  \\\n",
       "0  Прекрасная однокомнатная квартира в доме с лиф...        3   \n",
       "1  Светлая, просторная комната 19 кв. метров. Отд...        3   \n",
       "2  Первомайская, 15 мин. пешкомТёплая уютная квар...        3   \n",
       "3  в шаговой доступности парк Сокольники. , Разви...        3   \n",
       "4  Ильинское с.Все коммуникации центральные.Кварт...        3   \n",
       "5  Продается срочно однокомнатная квартира под ре...        3   \n",
       "6  Знамя Октября пос.Продается светлая, уютная, п...        3   \n",
       "7  Маяковская, 10 мин. пешкомБаррикадная, 10 мин....        3   \n",
       "8  Продается двухкомнатная квартира общей площадь...        3   \n",
       "9  Домодедово г.Успейте купить выгодно!!!        ...        3   \n",
       "\n",
       "                                         description  \n",
       "0  Прекрасная однокомнатная квартира в доме с лиф...  \n",
       "1  Светлая, просторная комната 19 кв. метров. Отд...  \n",
       "2  Первомайская, 15 мин. пешкомТёплая уютная квар...  \n",
       "3  в шаговой доступности парк Сокольники. , Разви...  \n",
       "4  Ильинское с.Все коммуникации центральные.Кварт...  \n",
       "5  Продается срочно однокомнатная квартира под ре...  \n",
       "6  Знамя Октября пос.Продается светлая, уютная, п...  \n",
       "7  Маяковская, 10 мин. пешкомБаррикадная, 10 мин....  \n",
       "8  Продается двухкомнатная квартира общей площадь...  \n",
       "9  Домодедово г.Успейте купить выгодно!!!        ...  "
      ]
     },
     "execution_count": 28,
     "metadata": {},
     "output_type": "execute_result"
    }
   ],
   "source": [
    "frame1.head(10)"
   ]
  }
 ],
 "metadata": {
  "kernelspec": {
   "display_name": "Python 3 (ipykernel)",
   "language": "python",
   "name": "python3"
  },
  "language_info": {
   "codemirror_mode": {
    "name": "ipython",
    "version": 3
   },
   "file_extension": ".py",
   "mimetype": "text/x-python",
   "name": "python",
   "nbconvert_exporter": "python",
   "pygments_lexer": "ipython3",
   "version": "3.9.13"
  },
  "orig_nbformat": 4,
  "vscode": {
   "interpreter": {
    "hash": "89dcf862c852db1b0a432862e964b9951f6434871ae0e32fb598fac69ceb7a59"
   }
  }
 },
 "nbformat": 4,
 "nbformat_minor": 2
}
