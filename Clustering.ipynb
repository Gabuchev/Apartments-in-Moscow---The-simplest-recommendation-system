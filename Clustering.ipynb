{
  "nbformat": 4,
  "nbformat_minor": 0,
  "metadata": {
    "colab": {
      "provenance": [],
      "authorship_tag": "ABX9TyMzQSvOm/TIsdn+lcFCv7NA",
      "include_colab_link": true
    },
    "kernelspec": {
      "name": "python3",
      "display_name": "Python 3"
    },
    "language_info": {
      "name": "python"
    }
  },
  "cells": [
    {
      "cell_type": "markdown",
      "metadata": {
        "id": "view-in-github",
        "colab_type": "text"
      },
      "source": [
        "<a href=\"https://colab.research.google.com/github/Gabuchev/Apartments-in-Moscow---The-simplest-recommendation-system/blob/main/Clustering.ipynb\" target=\"_parent\"><img src=\"https://colab.research.google.com/assets/colab-badge.svg\" alt=\"Open In Colab\"/></a>"
      ]
    },
    {
      "cell_type": "code",
      "execution_count": null,
      "metadata": {
        "id": "k2Q1FguKG30V"
      },
      "outputs": [],
      "source": [
        "import pandas as pd\n",
        "import numpy as np\n",
        "from tqdm.auto import tqdm, trange\n",
        "import nltk\n",
        "import re\n",
        "data = pd.read_csv('/content/Сlean.csv')"
      ]
    },
    {
      "cell_type": "code",
      "source": [
        "texts=data['description']"
      ],
      "metadata": {
        "id": "KG7pp11QHdLY"
      },
      "execution_count": null,
      "outputs": []
    },
    {
      "cell_type": "code",
      "source": [
        "type(texts)"
      ],
      "metadata": {
        "id": "qYXGO7cWHdvC"
      },
      "execution_count": null,
      "outputs": []
    },
    {
      "cell_type": "code",
      "source": [
        "#Предобработка текста\n",
        "from nltk.stem.snowball import SnowballStemmer\n",
        "stemmer = SnowballStemmer(\"russian\")\n",
        "def token_and_stem(text):\n",
        "    tokens=[word for sent in nltk.sent_tokenize(text) for word in nltk.word_tokenize(sent)]\n",
        "    filtered_tokens=[]\n",
        "    for token in tokens:\n",
        "        if re.search('[а-яА-Я]', token):\n",
        "            filtered_tokens.append(token)\n",
        "    stems=[stemmer.stem(t) for t in filtered_tokens]\n",
        "    return stems"
      ],
      "metadata": {
        "id": "gb7ef67SHfCR"
      },
      "execution_count": null,
      "outputs": []
    },
    {
      "cell_type": "code",
      "source": [
        "#Стоп слова\n",
        "stopwords=nltk.corpus.stopwords.words('russian')\n",
        "#расширяю список стоп слов\n",
        "stopwords.extend(['что','это','так', 'вот', 'быть','как','в', 'к','на', 'спешите', 'внимание', 'лучшее', 'самое'])\n",
        "\n",
        "from sklearn.feature_extraction.text import TfidfVectorizer, CountVectorizer\n",
        "\n",
        "n_featur=200000\n",
        "tfidf_vectorizer = TfidfVectorizer(max_df=0.8, max_features=10000,\n",
        "                                 min_df=0.01, stop_words=stopwords,\n",
        "                                 use_idf=True, tokenizer=token_and_stem, ngram_range=(1,3))"
      ],
      "metadata": {
        "id": "FW_tXRU-Hgqm"
      },
      "execution_count": null,
      "outputs": []
    },
    {
      "cell_type": "code",
      "source": [
        "%%time\n",
        "tfidf_matrix = tfidf_vectorizer.fit_transform(texts)"
      ],
      "metadata": {
        "id": "i1UsVIKzH_PF"
      },
      "execution_count": null,
      "outputs": []
    }
  ]
}