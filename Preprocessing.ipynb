{
 "cells": [
  {
   "cell_type": "code",
   "execution_count": 1,
   "metadata": {},
   "outputs": [],
   "source": [
    "#  источники - https://www.kaggle.com/code/pierremegret/gensim-word2vec-tutorial/notebook\n",
    "# https://spacy.io/models/ru#ru_core_news_md\n",
    "\n",
    "import re  # Для препроцессинга\n",
    "!pip install pandas\n",
    "import pandas as pd  # Для обработки данных\n",
    "from time import time  # Для определения времени операций\n",
    "import spacy\n",
    "from spacy.lang.ru.examples import sentences \n",
    "from collections import defaultdict  # Для частоты слов\n",
    "import logging  # Настройка для gensim\n",
    "logging.basicConfig(format=\"%(levelname)s - %(asctime)s: %(message)s\", datefmt= '%H:%M:%S', level=logging.INFO)"
   ]
  },
  {
   "cell_type": "code",
   "execution_count": 2,
   "metadata": {},
   "outputs": [],
   "source": [
    "# Считываю файл\n",
    "data = pd.read_csv('Сlean.csv')\n",
    "df=data['description']"
   ]
  },
  {
   "cell_type": "code",
   "execution_count": null,
   "metadata": {},
   "outputs": [],
   "source": [
    "df.isnull().sum()"
   ]
  },
  {
   "cell_type": "code",
   "execution_count": null,
   "metadata": {},
   "outputs": [],
   "source": [
    "# Загружаю модель\n",
    "!python -m spacy download ru_core_news_sm"
   ]
  },
  {
   "cell_type": "code",
   "execution_count": null,
   "metadata": {},
   "outputs": [],
   "source": [
    "nlp = spacy.load('ru_core_news_sm', disable=['ner', 'parser']) # отключение распознавания именованных объектов для повышения скорости\n",
    "def cleaning(doc):\n",
    "    #Лемматизируется и удаляет стоп-слова\n",
    "    # doc должен быть пространственным объектом Doc\n",
    "    txt = [token.lemma_ for token in doc if not token.is_stop]\n",
    "    # Word2Vec использует контекстные слова для изучения векторного представления целевого слова,\n",
    "    # если предложение состоит всего из одного или двух слов,\n",
    "    # польза от тренинга мала, поэтому\n",
    "    if len(txt) > 2:\n",
    "        return ' '.join(txt)"
   ]
  },
  {
   "cell_type": "code",
   "execution_count": null,
   "metadata": {},
   "outputs": [],
   "source": [
    "    #Удаляю неалфавитные символы:\n",
    "brief_cleaning = (re.sub(\"[^А-Яа-я]\", ' ', str(row)).lower() for row in data['description'])"
   ]
  },
  {
   "cell_type": "code",
   "execution_count": null,
   "metadata": {},
   "outputs": [],
   "source": [
    "# Атрибут space .pipe() для ускорения процесса очистки:\n",
    "# Подбираю оптимальное batch_size=2000, n_process=4\n",
    "t = time()\n",
    "txt = [cleaning(doc) for doc in nlp.pipe(brief_cleaning, batch_size=2000, n_process=4)]\n",
    "print('Time to clean up everything: {} mins'.format(round((time() - t) / 60, 2)))"
   ]
  },
  {
   "cell_type": "code",
   "execution_count": null,
   "metadata": {},
   "outputs": [],
   "source": [
    "#Помещаю результаты в фрейм данных, чтобы удалить недостающие значения и дубликаты:\n",
    "df_clean = pd.DataFrame({'clean': txt})\n",
    "df_clean = df_clean.dropna().drop_duplicates()"
   ]
  },
  {
   "cell_type": "code",
   "execution_count": null,
   "metadata": {},
   "outputs": [],
   "source": [
    "#Удаляю пробелы которых больше или равно 2 и сохраняю данные\n",
    "df_clean['clean']= df_clean['clean'].str.replace(' {2,}', ' ', regex=True)\n",
    "df_clean.to_csv('PRE.csv',index=True)"
   ]
  }
 ],
 "metadata": {
  "kernelspec": {
   "display_name": "Python 3.9.13 ('base')",
   "language": "python",
   "name": "python3"
  },
  "language_info": {
   "codemirror_mode": {
    "name": "ipython",
    "version": 3
   },
   "file_extension": ".py",
   "mimetype": "text/x-python",
   "name": "python",
   "nbconvert_exporter": "python",
   "pygments_lexer": "ipython3",
   "version": "3.9.13"
  },
  "orig_nbformat": 4,
  "vscode": {
   "interpreter": {
    "hash": "92d1c8824dd9ed58f2e2fe7d35df9188f2132fcf69312c535170a29d4fbf29a8"
   }
  }
 },
 "nbformat": 4,
 "nbformat_minor": 2
}
