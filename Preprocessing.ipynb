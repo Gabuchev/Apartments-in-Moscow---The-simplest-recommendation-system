{
 "cells": [
  {
   "cell_type": "code",
   "execution_count": 3,
   "metadata": {},
   "outputs": [
    {
     "name": "stdout",
     "output_type": "stream",
     "text": [
      "Requirement already satisfied: pandas in c:\\users\\daniel\\anaconda3\\lib\\site-packages (1.4.4)\n",
      "Requirement already satisfied: python-dateutil>=2.8.1 in c:\\users\\daniel\\anaconda3\\lib\\site-packages (from pandas) (2.8.2)\n",
      "Requirement already satisfied: numpy>=1.18.5 in c:\\users\\daniel\\anaconda3\\lib\\site-packages (from pandas) (1.21.5)\n",
      "Requirement already satisfied: pytz>=2020.1 in c:\\users\\daniel\\anaconda3\\lib\\site-packages (from pandas) (2022.1)\n",
      "Requirement already satisfied: six>=1.5 in c:\\users\\daniel\\anaconda3\\lib\\site-packages (from python-dateutil>=2.8.1->pandas) (1.16.0)\n"
     ]
    },
    {
     "name": "stderr",
     "output_type": "stream",
     "text": [
      "WARNING: Ignoring invalid distribution -yspark (c:\\users\\daniel\\anaconda3\\lib\\site-packages)\n",
      "WARNING: Ignoring invalid distribution -yspark (c:\\users\\daniel\\anaconda3\\lib\\site-packages)\n",
      "WARNING: Ignoring invalid distribution -yspark (c:\\users\\daniel\\anaconda3\\lib\\site-packages)\n",
      "WARNING: Ignoring invalid distribution -yspark (c:\\users\\daniel\\anaconda3\\lib\\site-packages)\n",
      "WARNING: Ignoring invalid distribution -yspark (c:\\users\\daniel\\anaconda3\\lib\\site-packages)\n",
      "WARNING: Ignoring invalid distribution -yspark (c:\\users\\daniel\\anaconda3\\lib\\site-packages)\n"
     ]
    }
   ],
   "source": [
    "#  источники - https://www.kaggle.com/code/pierremegret/gensim-word2vec-tutorial/notebook\n",
    "# https://spacy.io/models/ru#ru_core_news_md\n",
    "\n",
    "import re  # Для препроцессинга\n",
    "!pip install pandas\n",
    "import pandas as pd  # Для обработки данных\n",
    "from time import time  # Для определения времени операций\n",
    "import spacy\n",
    "from spacy.lang.ru.examples import sentences \n",
    "from collections import defaultdict  # Для частоты слов\n",
    "import logging  # Настройка для gensim\n",
    "logging.basicConfig(format=\"%(levelname)s - %(asctime)s: %(message)s\", datefmt= '%H:%M:%S', level=logging.INFO)"
   ]
  },
  {
   "cell_type": "code",
   "execution_count": 5,
   "metadata": {},
   "outputs": [],
   "source": [
    "# Считываю файл\n",
    "data = pd.read_csv('Сlean.csv')\n",
    "df=data['description']"
   ]
  },
  {
   "cell_type": "code",
   "execution_count": 6,
   "metadata": {},
   "outputs": [
    {
     "data": {
      "text/plain": [
       "0         Прекрасная однокомнатная квартира в доме с лиф...\n",
       "1         Светлая, просторная комната 19 кв. метров. Отд...\n",
       "2         Первомайская, 15 мин. пешкомТёплая уютная квар...\n",
       "3         в шаговой доступности парк Сокольники. , Разви...\n",
       "4         Ильинское с.Все коммуникации центральные.Кварт...\n",
       "                                ...                        \n",
       "100713    Переуступка, входит в цену, 2 корпус, комнаты ...\n",
       "100714    Продается трехкомнатная квартира, замечательно...\n",
       "100715    ПРОЧИТАЙТЕ ОБЪЯВЛЕНИЕ ПОЛНОСТЬЮ !!!Звонить СТР...\n",
       "100716    Сначала читаем, потом звоним.)Согласно статье ...\n",
       "100717    ПРОЧИТАЙТЕ ОБЪЯВЛЕНИЕ ПОЛНОСТЬЮ !!!Звонить СТР...\n",
       "Name: description, Length: 100718, dtype: object"
      ]
     },
     "execution_count": 6,
     "metadata": {},
     "output_type": "execute_result"
    }
   ],
   "source": [
    "df.head(-5)"
   ]
  },
  {
   "cell_type": "code",
   "execution_count": 7,
   "metadata": {},
   "outputs": [
    {
     "data": {
      "text/plain": [
       "0"
      ]
     },
     "execution_count": 7,
     "metadata": {},
     "output_type": "execute_result"
    }
   ],
   "source": [
    "df.isnull().sum()"
   ]
  },
  {
   "cell_type": "code",
   "execution_count": 8,
   "metadata": {},
   "outputs": [
    {
     "name": "stdout",
     "output_type": "stream",
     "text": [
      "Collecting ru-core-news-sm==3.3.0"
     ]
    },
    {
     "name": "stderr",
     "output_type": "stream",
     "text": [
      "WARNING: Ignoring invalid distribution -yspark (c:\\users\\daniel\\anaconda3\\lib\\site-packages)\n",
      "WARNING: Ignoring invalid distribution -yspark (c:\\users\\daniel\\anaconda3\\lib\\site-packages)\n",
      "WARNING: Ignoring invalid distribution -yspark (c:\\users\\daniel\\anaconda3\\lib\\site-packages)\n",
      "    WARNING: Ignoring invalid distribution -yspark (c:\\users\\daniel\\anaconda3\\lib\\site-packages)\n",
      "ERROR: Could not install packages due to an OSError: [WinError 5] Отказано в доступе: 'C:\\\\Users\\\\Daniel\\\\AppData\\\\Local\\\\Temp\\\\pip-uninstall-yljdjjbs\\\\annotated_types.cp39-win_amd64.pyd'\n",
      "Consider using the `--user` option or check the permissions.\n",
      "\n",
      "WARNING: Ignoring invalid distribution -yspark (c:\\users\\daniel\\anaconda3\\lib\\site-packages)\n",
      "WARNING: Ignoring invalid distribution -yspark (c:\\users\\daniel\\anaconda3\\lib\\site-packages)\n",
      "WARNING: Ignoring invalid distribution -yspark (c:\\users\\daniel\\anaconda3\\lib\\site-packages)\n"
     ]
    },
    {
     "name": "stdout",
     "output_type": "stream",
     "text": [
      "\n",
      "  Downloading https://github.com/explosion/spacy-models/releases/download/ru_core_news_sm-3.3.0/ru_core_news_sm-3.3.0-py3-none-any.whl (15.3 MB)\n",
      "     ---------------------------------------- 15.3/15.3 MB 7.7 MB/s eta 0:00:00\n",
      "Requirement already satisfied: pymorphy2>=0.9 in c:\\users\\daniel\\anaconda3\\lib\\site-packages (from ru-core-news-sm==3.3.0) (0.9.1)\n",
      "Requirement already satisfied: spacy<3.4.0,>=3.3.0.dev0 in c:\\users\\daniel\\anaconda3\\lib\\site-packages (from ru-core-news-sm==3.3.0) (3.3.1)\n",
      "Requirement already satisfied: pymorphy2-dicts-ru<3.0,>=2.4 in c:\\users\\daniel\\anaconda3\\lib\\site-packages (from pymorphy2>=0.9->ru-core-news-sm==3.3.0) (2.4.417127.4579844)\n",
      "Requirement already satisfied: dawg-python>=0.7.1 in c:\\users\\daniel\\anaconda3\\lib\\site-packages (from pymorphy2>=0.9->ru-core-news-sm==3.3.0) (0.7.2)\n",
      "Requirement already satisfied: docopt>=0.6 in c:\\users\\daniel\\anaconda3\\lib\\site-packages (from pymorphy2>=0.9->ru-core-news-sm==3.3.0) (0.6.2)\n",
      "Requirement already satisfied: setuptools in c:\\users\\daniel\\anaconda3\\lib\\site-packages (from spacy<3.4.0,>=3.3.0.dev0->ru-core-news-sm==3.3.0) (63.4.1)\n",
      "Requirement already satisfied: langcodes<4.0.0,>=3.2.0 in c:\\users\\daniel\\anaconda3\\lib\\site-packages (from spacy<3.4.0,>=3.3.0.dev0->ru-core-news-sm==3.3.0) (3.3.0)\n",
      "Requirement already satisfied: jinja2 in c:\\users\\daniel\\anaconda3\\lib\\site-packages (from spacy<3.4.0,>=3.3.0.dev0->ru-core-news-sm==3.3.0) (2.11.3)\n",
      "Requirement already satisfied: blis<0.8.0,>=0.4.0 in c:\\users\\daniel\\anaconda3\\lib\\site-packages (from spacy<3.4.0,>=3.3.0.dev0->ru-core-news-sm==3.3.0) (0.7.7)\n",
      "Requirement already satisfied: catalogue<2.1.0,>=2.0.6 in c:\\users\\daniel\\anaconda3\\lib\\site-packages (from spacy<3.4.0,>=3.3.0.dev0->ru-core-news-sm==3.3.0) (2.0.8)\n",
      "Requirement already satisfied: requests<3.0.0,>=2.13.0 in c:\\users\\daniel\\anaconda3\\lib\\site-packages (from spacy<3.4.0,>=3.3.0.dev0->ru-core-news-sm==3.3.0) (2.28.1)\n",
      "Requirement already satisfied: preshed<3.1.0,>=3.0.2 in c:\\users\\daniel\\anaconda3\\lib\\site-packages (from spacy<3.4.0,>=3.3.0.dev0->ru-core-news-sm==3.3.0) (3.0.6)\n",
      "Requirement already satisfied: srsly<3.0.0,>=2.4.3 in c:\\users\\daniel\\anaconda3\\lib\\site-packages (from spacy<3.4.0,>=3.3.0.dev0->ru-core-news-sm==3.3.0) (2.4.3)\n",
      "Requirement already satisfied: wasabi<1.1.0,>=0.9.1 in c:\\users\\daniel\\anaconda3\\lib\\site-packages (from spacy<3.4.0,>=3.3.0.dev0->ru-core-news-sm==3.3.0) (0.10.1)\n",
      "Requirement already satisfied: cymem<2.1.0,>=2.0.2 in c:\\users\\daniel\\anaconda3\\lib\\site-packages (from spacy<3.4.0,>=3.3.0.dev0->ru-core-news-sm==3.3.0) (2.0.6)\n",
      "Requirement already satisfied: tqdm<5.0.0,>=4.38.0 in c:\\users\\daniel\\anaconda3\\lib\\site-packages (from spacy<3.4.0,>=3.3.0.dev0->ru-core-news-sm==3.3.0) (4.64.1)\n",
      "Requirement already satisfied: pathy>=0.3.5 in c:\\users\\daniel\\anaconda3\\lib\\site-packages (from spacy<3.4.0,>=3.3.0.dev0->ru-core-news-sm==3.3.0) (0.7.1)\n",
      "Collecting pydantic!=1.8,!=1.8.1,<1.9.0,>=1.7.4\n",
      "  Using cached pydantic-1.8.2-cp39-cp39-win_amd64.whl (1.9 MB)\n",
      "Requirement already satisfied: typer<0.5.0,>=0.3.0 in c:\\users\\daniel\\anaconda3\\lib\\site-packages (from spacy<3.4.0,>=3.3.0.dev0->ru-core-news-sm==3.3.0) (0.4.2)\n",
      "Requirement already satisfied: spacy-legacy<3.1.0,>=3.0.9 in c:\\users\\daniel\\anaconda3\\lib\\site-packages (from spacy<3.4.0,>=3.3.0.dev0->ru-core-news-sm==3.3.0) (3.0.10)\n",
      "Requirement already satisfied: thinc<8.1.0,>=8.0.14 in c:\\users\\daniel\\anaconda3\\lib\\site-packages (from spacy<3.4.0,>=3.3.0.dev0->ru-core-news-sm==3.3.0) (8.0.15)\n",
      "Requirement already satisfied: numpy>=1.15.0 in c:\\users\\daniel\\anaconda3\\lib\\site-packages (from spacy<3.4.0,>=3.3.0.dev0->ru-core-news-sm==3.3.0) (1.21.5)\n",
      "Requirement already satisfied: murmurhash<1.1.0,>=0.28.0 in c:\\users\\daniel\\anaconda3\\lib\\site-packages (from spacy<3.4.0,>=3.3.0.dev0->ru-core-news-sm==3.3.0) (1.0.7)\n",
      "Requirement already satisfied: packaging>=20.0 in c:\\users\\daniel\\anaconda3\\lib\\site-packages (from spacy<3.4.0,>=3.3.0.dev0->ru-core-news-sm==3.3.0) (21.3)\n",
      "Requirement already satisfied: spacy-loggers<2.0.0,>=1.0.0 in c:\\users\\daniel\\anaconda3\\lib\\site-packages (from spacy<3.4.0,>=3.3.0.dev0->ru-core-news-sm==3.3.0) (1.0.3)\n",
      "Requirement already satisfied: pyparsing!=3.0.5,>=2.0.2 in c:\\users\\daniel\\anaconda3\\lib\\site-packages (from packaging>=20.0->spacy<3.4.0,>=3.3.0.dev0->ru-core-news-sm==3.3.0) (3.0.9)\n",
      "Requirement already satisfied: smart-open<6.0.0,>=5.2.1 in c:\\users\\daniel\\anaconda3\\lib\\site-packages (from pathy>=0.3.5->spacy<3.4.0,>=3.3.0.dev0->ru-core-news-sm==3.3.0) (5.2.1)\n",
      "Requirement already satisfied: typing-extensions>=3.7.4.3 in c:\\users\\daniel\\anaconda3\\lib\\site-packages (from pydantic!=1.8,!=1.8.1,<1.9.0,>=1.7.4->spacy<3.4.0,>=3.3.0.dev0->ru-core-news-sm==3.3.0) (4.3.0)\n",
      "Requirement already satisfied: idna<4,>=2.5 in c:\\users\\daniel\\anaconda3\\lib\\site-packages (from requests<3.0.0,>=2.13.0->spacy<3.4.0,>=3.3.0.dev0->ru-core-news-sm==3.3.0) (3.3)\n",
      "Requirement already satisfied: certifi>=2017.4.17 in c:\\users\\daniel\\anaconda3\\lib\\site-packages (from requests<3.0.0,>=2.13.0->spacy<3.4.0,>=3.3.0.dev0->ru-core-news-sm==3.3.0) (2022.9.24)\n",
      "Requirement already satisfied: charset-normalizer<3,>=2 in c:\\users\\daniel\\anaconda3\\lib\\site-packages (from requests<3.0.0,>=2.13.0->spacy<3.4.0,>=3.3.0.dev0->ru-core-news-sm==3.3.0) (2.0.4)\n",
      "Requirement already satisfied: urllib3<1.27,>=1.21.1 in c:\\users\\daniel\\anaconda3\\lib\\site-packages (from requests<3.0.0,>=2.13.0->spacy<3.4.0,>=3.3.0.dev0->ru-core-news-sm==3.3.0) (1.26.11)\n",
      "Requirement already satisfied: colorama in c:\\users\\daniel\\anaconda3\\lib\\site-packages (from tqdm<5.0.0,>=4.38.0->spacy<3.4.0,>=3.3.0.dev0->ru-core-news-sm==3.3.0) (0.4.5)\n",
      "Requirement already satisfied: click<9.0.0,>=7.1.1 in c:\\users\\daniel\\appdata\\roaming\\python\\python39\\site-packages (from typer<0.5.0,>=0.3.0->spacy<3.4.0,>=3.3.0.dev0->ru-core-news-sm==3.3.0) (8.1.2)\n",
      "Requirement already satisfied: MarkupSafe>=0.23 in c:\\users\\daniel\\anaconda3\\lib\\site-packages (from jinja2->spacy<3.4.0,>=3.3.0.dev0->ru-core-news-sm==3.3.0) (2.0.1)\n",
      "Installing collected packages: pydantic\n",
      "  Attempting uninstall: pydantic\n",
      "    Found existing installation: pydantic 1.10.2\n",
      "    Uninstalling pydantic-1.10.2:\n",
      "      Successfully uninstalled pydantic-1.10.2\n"
     ]
    }
   ],
   "source": [
    "# Загружаю модель\n",
    "!python -m spacy download ru_core_news_sm"
   ]
  },
  {
   "cell_type": "code",
   "execution_count": 9,
   "metadata": {},
   "outputs": [
    {
     "name": "stderr",
     "output_type": "stream",
     "text": [
      "INFO - 21:50:48: Loading dictionaries from C:\\Users\\Daniel\\anaconda3\\lib\\site-packages\\pymorphy2_dicts_ru\\data\n",
      "INFO - 21:50:48: format: 2.4, revision: 417127, updated: 2020-10-11T15:05:51.070345\n"
     ]
    }
   ],
   "source": [
    "nlp = spacy.load('ru_core_news_sm', disable=['ner', 'parser']) # отключение распознавания именованных объектов для повышения скорости\n",
    "def cleaning(doc):\n",
    "    #Лемматизируется и удаляет стоп-слова\n",
    "    # doc должен быть пространственным объектом Doc\n",
    "    txt = [token.lemma_ for token in doc if not token.is_stop]\n",
    "    # Word2Vec использует контекстные слова для изучения векторного представления целевого слова,\n",
    "    # если предложение состоит всего из одного или двух слов,\n",
    "    # польза от тренинга мала, поэтому\n",
    "    if len(txt) > 2:\n",
    "        return ' '.join(txt)"
   ]
  },
  {
   "cell_type": "code",
   "execution_count": 10,
   "metadata": {},
   "outputs": [],
   "source": [
    "    #Удаляю неалфавитные символы:\n",
    "brief_cleaning = (re.sub(\"[^А-Яа-я]\", ' ', str(row)).lower() for row in data['description'])"
   ]
  },
  {
   "cell_type": "code",
   "execution_count": 11,
   "metadata": {},
   "outputs": [
    {
     "name": "stdout",
     "output_type": "stream",
     "text": [
      "Time to clean up everything: 25.37 mins\n"
     ]
    }
   ],
   "source": [
    "# Атрибут space .pipe() для ускорения процесса очистки:\n",
    "# Подбираю оптимальное batch_size=2000, n_process=4\n",
    "t = time()\n",
    "txt = [cleaning(doc) for doc in nlp.pipe(brief_cleaning, batch_size=2000, n_process=4)]\n",
    "print('Time to clean up everything: {} mins'.format(round((time() - t) / 60, 2)))"
   ]
  },
  {
   "cell_type": "code",
   "execution_count": null,
   "metadata": {},
   "outputs": [],
   "source": [
    "#Помещаю результаты в фрейм данных, чтобы удалить недостающие значения и дубликаты:\n",
    "df_clean = pd.DataFrame({'clean': txt})\n",
    "#df_clean = df_clean.dropna().drop_duplicates()"
   ]
  },
  {
   "cell_type": "code",
   "execution_count": 12,
   "metadata": {},
   "outputs": [],
   "source": [
    "df_clean = pd.DataFrame({'clean': txt})"
   ]
  },
  {
   "cell_type": "code",
   "execution_count": 13,
   "metadata": {},
   "outputs": [
    {
     "data": {
      "text/html": [
       "<div>\n",
       "<style scoped>\n",
       "    .dataframe tbody tr th:only-of-type {\n",
       "        vertical-align: middle;\n",
       "    }\n",
       "\n",
       "    .dataframe tbody tr th {\n",
       "        vertical-align: top;\n",
       "    }\n",
       "\n",
       "    .dataframe thead th {\n",
       "        text-align: right;\n",
       "    }\n",
       "</style>\n",
       "<table border=\"1\" class=\"dataframe\">\n",
       "  <thead>\n",
       "    <tr style=\"text-align: right;\">\n",
       "      <th></th>\n",
       "      <th>clean</th>\n",
       "    </tr>\n",
       "  </thead>\n",
       "  <tbody>\n",
       "    <tr>\n",
       "      <th>0</th>\n",
       "      <td>прекрасный однокомнатный квартира дом лифт мус...</td>\n",
       "    </tr>\n",
       "    <tr>\n",
       "      <th>1</th>\n",
       "      <td>светлый   просторный комната     кв   метр   о...</td>\n",
       "    </tr>\n",
       "    <tr>\n",
       "      <th>2</th>\n",
       "      <td>первомайский      мина   пешкомт плая уютный к...</td>\n",
       "    </tr>\n",
       "    <tr>\n",
       "      <th>3</th>\n",
       "      <td>шаговый доступность парк сокольники     развит...</td>\n",
       "    </tr>\n",
       "    <tr>\n",
       "      <th>4</th>\n",
       "      <td>ильинский коммуникация центральный квартира хо...</td>\n",
       "    </tr>\n",
       "    <tr>\n",
       "      <th>...</th>\n",
       "      <td>...</td>\n",
       "    </tr>\n",
       "    <tr>\n",
       "      <th>100713</th>\n",
       "      <td>переуступка   входить цена     корпус   комнат...</td>\n",
       "    </tr>\n",
       "    <tr>\n",
       "      <th>100714</th>\n",
       "      <td>продаваться трехкомнатная квартира   замечател...</td>\n",
       "    </tr>\n",
       "    <tr>\n",
       "      <th>100715</th>\n",
       "      <td>прочитайте объявление полностью     звонить ст...</td>\n",
       "    </tr>\n",
       "    <tr>\n",
       "      <th>100716</th>\n",
       "      <td>читать   звоним   согласно статья      фз    и...</td>\n",
       "    </tr>\n",
       "    <tr>\n",
       "      <th>100717</th>\n",
       "      <td>прочитайте объявление полностью     звонить ст...</td>\n",
       "    </tr>\n",
       "  </tbody>\n",
       "</table>\n",
       "<p>100718 rows × 1 columns</p>\n",
       "</div>"
      ],
      "text/plain": [
       "                                                    clean\n",
       "0       прекрасный однокомнатный квартира дом лифт мус...\n",
       "1       светлый   просторный комната     кв   метр   о...\n",
       "2       первомайский      мина   пешкомт плая уютный к...\n",
       "3       шаговый доступность парк сокольники     развит...\n",
       "4       ильинский коммуникация центральный квартира хо...\n",
       "...                                                   ...\n",
       "100713  переуступка   входить цена     корпус   комнат...\n",
       "100714  продаваться трехкомнатная квартира   замечател...\n",
       "100715  прочитайте объявление полностью     звонить ст...\n",
       "100716  читать   звоним   согласно статья      фз    и...\n",
       "100717  прочитайте объявление полностью     звонить ст...\n",
       "\n",
       "[100718 rows x 1 columns]"
      ]
     },
     "execution_count": 13,
     "metadata": {},
     "output_type": "execute_result"
    }
   ],
   "source": [
    "df_clean.head(-5)"
   ]
  },
  {
   "cell_type": "code",
   "execution_count": 14,
   "metadata": {},
   "outputs": [],
   "source": [
    "#Удаляю пробелы которых больше или равно 2 и сохраняю данные\n",
    "df_clean['clean']= df_clean['clean'].str.replace(' {2,}', ' ', regex=True)\n",
    "df_clean.to_csv('PRE.csv',index=False)"
   ]
  },
  {
   "cell_type": "code",
   "execution_count": 15,
   "metadata": {},
   "outputs": [
    {
     "data": {
      "text/html": [
       "<div>\n",
       "<style scoped>\n",
       "    .dataframe tbody tr th:only-of-type {\n",
       "        vertical-align: middle;\n",
       "    }\n",
       "\n",
       "    .dataframe tbody tr th {\n",
       "        vertical-align: top;\n",
       "    }\n",
       "\n",
       "    .dataframe thead th {\n",
       "        text-align: right;\n",
       "    }\n",
       "</style>\n",
       "<table border=\"1\" class=\"dataframe\">\n",
       "  <thead>\n",
       "    <tr style=\"text-align: right;\">\n",
       "      <th></th>\n",
       "      <th>clean</th>\n",
       "    </tr>\n",
       "  </thead>\n",
       "  <tbody>\n",
       "    <tr>\n",
       "      <th>0</th>\n",
       "      <td>прекрасный однокомнатный квартира дом лифт мус...</td>\n",
       "    </tr>\n",
       "    <tr>\n",
       "      <th>1</th>\n",
       "      <td>светлый просторный комната кв метр отдельный л...</td>\n",
       "    </tr>\n",
       "    <tr>\n",
       "      <th>2</th>\n",
       "      <td>первомайский мина пешкомт плая уютный квартира...</td>\n",
       "    </tr>\n",
       "    <tr>\n",
       "      <th>3</th>\n",
       "      <td>шаговый доступность парк сокольники развитой и...</td>\n",
       "    </tr>\n",
       "    <tr>\n",
       "      <th>4</th>\n",
       "      <td>ильинский коммуникация центральный квартира хо...</td>\n",
       "    </tr>\n",
       "    <tr>\n",
       "      <th>...</th>\n",
       "      <td>...</td>\n",
       "    </tr>\n",
       "    <tr>\n",
       "      <th>100713</th>\n",
       "      <td>переуступка входить цена корпус комната изолир...</td>\n",
       "    </tr>\n",
       "    <tr>\n",
       "      <th>100714</th>\n",
       "      <td>продаваться трехкомнатная квартира замечательн...</td>\n",
       "    </tr>\n",
       "    <tr>\n",
       "      <th>100715</th>\n",
       "      <td>прочитайте объявление полностью звонить строго...</td>\n",
       "    </tr>\n",
       "    <tr>\n",
       "      <th>100716</th>\n",
       "      <td>читать звоним согласно статья фз исполнительны...</td>\n",
       "    </tr>\n",
       "    <tr>\n",
       "      <th>100717</th>\n",
       "      <td>прочитайте объявление полностью звонить строго...</td>\n",
       "    </tr>\n",
       "  </tbody>\n",
       "</table>\n",
       "<p>100718 rows × 1 columns</p>\n",
       "</div>"
      ],
      "text/plain": [
       "                                                    clean\n",
       "0       прекрасный однокомнатный квартира дом лифт мус...\n",
       "1       светлый просторный комната кв метр отдельный л...\n",
       "2       первомайский мина пешкомт плая уютный квартира...\n",
       "3       шаговый доступность парк сокольники развитой и...\n",
       "4       ильинский коммуникация центральный квартира хо...\n",
       "...                                                   ...\n",
       "100713  переуступка входить цена корпус комната изолир...\n",
       "100714  продаваться трехкомнатная квартира замечательн...\n",
       "100715  прочитайте объявление полностью звонить строго...\n",
       "100716  читать звоним согласно статья фз исполнительны...\n",
       "100717  прочитайте объявление полностью звонить строго...\n",
       "\n",
       "[100718 rows x 1 columns]"
      ]
     },
     "execution_count": 15,
     "metadata": {},
     "output_type": "execute_result"
    }
   ],
   "source": [
    "df_clean.head(-5)"
   ]
  }
 ],
 "metadata": {
  "kernelspec": {
   "display_name": "Python 3 (ipykernel)",
   "language": "python",
   "name": "python3"
  },
  "language_info": {
   "codemirror_mode": {
    "name": "ipython",
    "version": 3
   },
   "file_extension": ".py",
   "mimetype": "text/x-python",
   "name": "python",
   "nbconvert_exporter": "python",
   "pygments_lexer": "ipython3",
   "version": "3.11.0"
  },
  "orig_nbformat": 4,
  "vscode": {
   "interpreter": {
    "hash": "92d1c8824dd9ed58f2e2fe7d35df9188f2132fcf69312c535170a29d4fbf29a8"
   }
  }
 },
 "nbformat": 4,
 "nbformat_minor": 2
}
