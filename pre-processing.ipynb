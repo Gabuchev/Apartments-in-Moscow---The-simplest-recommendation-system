{
 "cells": [
  {
   "cell_type": "code",
   "execution_count": 2,
   "metadata": {},
   "outputs": [],
   "source": [
    "import pandas as pd\n",
    "df = pd.read_csv('E:\\project university\\Выпускная работа\\Сlean.csv')\n",
    "data=df['description']"
   ]
  },
  {
   "cell_type": "code",
   "execution_count": 3,
   "metadata": {},
   "outputs": [],
   "source": [
    "#Токенизация, лемматизация и удаление стоп-слов\n",
    "\n",
    "import re\n",
    "\n",
    "from pymorphy2 import MorphAnalyzer\n",
    "from nltk.corpus import stopwords\n",
    "\n",
    "patterns = \"[A-Za-z0-9!#$%&'()*+,./:;<=>?@[\\]^_`{|}~—\\\"\\-]+\"\n",
    "stopwords_ru = stopwords.words(\"russian\")\n",
    "#расширяю список стоп-слов\n",
    "stopwords_ru.extend(['что','это','так', 'вот', 'быть','как','в', 'к','на', 'спешите', \n",
    "'внимание', 'лучшее', 'самое','Успейте','выгодно', 'Прекрасная','🛑','❇️','👇','⚜️','🤩','супер','✔','легендарный','🔑','продаваться','✅','продавать',\n",
    "'🍀','📌','🔥','❗️','подарок','❕','📍','🔴','🏦','🎁','➡️','☎️'])\n",
    "morph = MorphAnalyzer()\n",
    "\n",
    "def lemmatize(doc):\n",
    "    doc = re.sub(patterns, ' ', doc)\n",
    "    tokens = []\n",
    "    for token in doc.split():\n",
    "        if token and token not in stopwords_ru:\n",
    "            token = token.strip()\n",
    "            token = morph.normal_forms(token)[0]\n",
    "            tokens.append(token)\n",
    "    if len(tokens) > 2:\n",
    "        return tokens\n",
    "    return None"
   ]
  },
  {
   "cell_type": "code",
   "execution_count": 4,
   "metadata": {},
   "outputs": [],
   "source": [
    "df = data.apply(lemmatize)\n",
    "#df['preprocessed_review'] = df['review'].apply(lambda review: data_preprocessing(review))"
   ]
  },
  {
   "cell_type": "code",
   "execution_count": 5,
   "metadata": {},
   "outputs": [
    {
     "data": {
      "text/plain": [
       "0    [однокомнатный, квартира, дом, лифт, мусоропро...\n",
       "1    [светлый, просторный, комната, кв, метр, отдел...\n",
       "2    [первомайский, мина, пешкомтёплый, уютный, ква...\n",
       "3    [шаговый, доступность, парк, сокольник, развит...\n",
       "4    [ильинский, всё, коммуникация, центральный, кв...\n",
       "Name: description, dtype: object"
      ]
     },
     "execution_count": 5,
     "metadata": {},
     "output_type": "execute_result"
    }
   ],
   "source": [
    "df.head(5)"
   ]
  },
  {
   "cell_type": "code",
   "execution_count": 22,
   "metadata": {},
   "outputs": [],
   "source": [
    "#Меняю пропуски\n",
    "df = df.fillna(\"[' о ']\")"
   ]
  },
  {
   "cell_type": "code",
   "execution_count": 8,
   "metadata": {},
   "outputs": [],
   "source": [
    "df.to_csv('PRE.csv',index=True)"
   ]
  },
  {
   "cell_type": "code",
   "execution_count": null,
   "metadata": {},
   "outputs": [],
   "source": [
    "#Уникальные и 10 самых повторяющихся слов"
   ]
  },
  {
   "cell_type": "code",
   "execution_count": 25,
   "metadata": {},
   "outputs": [],
   "source": [
    "from collections import defaultdict\n",
    "\n",
    "word_freq = defaultdict(int)\n",
    "for tokens in df.iloc[:]:\n",
    "    for token in tokens:\n",
    "        word_freq[token] += 1"
   ]
  },
  {
   "cell_type": "code",
   "execution_count": 26,
   "metadata": {},
   "outputs": [
    {
     "data": {
      "text/plain": [
       "42190"
      ]
     },
     "execution_count": 26,
     "metadata": {},
     "output_type": "execute_result"
    }
   ],
   "source": [
    "#уникальных слов\n",
    "len(word_freq)"
   ]
  },
  {
   "cell_type": "code",
   "execution_count": 27,
   "metadata": {},
   "outputs": [
    {
     "data": {
      "text/plain": [
       "['квартира',\n",
       " 'в',\n",
       " 'дом',\n",
       " 'м',\n",
       " 'детский',\n",
       " 'комплекс',\n",
       " 'этаж',\n",
       " 'минута',\n",
       " 'двор',\n",
       " 'метро']"
      ]
     },
     "execution_count": 27,
     "metadata": {},
     "output_type": "execute_result"
    }
   ],
   "source": [
    "#10 самых повторяющихся слов\n",
    "sorted(word_freq, key=word_freq.get, reverse=True)[:10]"
   ]
  }
 ],
 "metadata": {
  "kernelspec": {
   "display_name": "Python 3 (ipykernel)",
   "language": "python",
   "name": "python3"
  },
  "language_info": {
   "codemirror_mode": {
    "name": "ipython",
    "version": 3
   },
   "file_extension": ".py",
   "mimetype": "text/x-python",
   "name": "python",
   "nbconvert_exporter": "python",
   "pygments_lexer": "ipython3",
   "version": "3.11.0"
  },
  "orig_nbformat": 4,
  "vscode": {
   "interpreter": {
    "hash": "13de0658846510013ada92a313cc691cda5658cefa7b17615f36fa1d8fe96911"
   }
  }
 },
 "nbformat": 4,
 "nbformat_minor": 2
}
